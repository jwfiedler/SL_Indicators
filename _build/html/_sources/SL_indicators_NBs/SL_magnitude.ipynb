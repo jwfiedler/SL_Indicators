{
 "cells": [
  {
   "cell_type": "markdown",
   "metadata": {},
   "source": [
    "# Regional and Local Sea Level Change   "
   ]
  },
  {
   "cell_type": "markdown",
   "metadata": {},
   "source": [
    "## Setup\n",
    "\n",
    "Is there a reason that this page isn't building??"
   ]
  },
  {
   "cell_type": "code",
   "execution_count": 4,
   "metadata": {},
   "outputs": [
    {
     "name": "stdout",
     "output_type": "stream",
     "text": [
      "doobeedoobeedoobeedoo\n"
     ]
    }
   ],
   "source": [
    "a = 'doobeedoobee'\n",
    "b = 'doobeedoo'\n",
    "\n",
    "print(a+b)\n"
   ]
  },
  {
   "cell_type": "markdown",
   "metadata": {},
   "source": [
    "## Retrieve Altimetry Data\n",
    "Retrieve Altimetry Data Set (issues! …consult w/Ayesha and Matthew)"
   ]
  },
  {
   "cell_type": "markdown",
   "metadata": {},
   "source": [
    "### Clip\n",
    "Clip the Data Set to the area/grid of Interest"
   ]
  },
  {
   "cell_type": "markdown",
   "metadata": {},
   "source": [
    "### Set the Datum to MHHW"
   ]
  },
  {
   "cell_type": "markdown",
   "metadata": {},
   "source": [
    "### Calculate change\n",
    "Calculate the Absolute Sea Level Change (magnitude in cm) within the area/grid of Interest for the Period of Record (1993-2022)"
   ]
  },
  {
   "cell_type": "markdown",
   "metadata": {},
   "source": [
    "### Plot a map\n",
    "Plot the Results (in a map that includes the EEZ) – MAP"
   ]
  },
  {
   "cell_type": "markdown",
   "metadata": {},
   "source": [
    "### Plot time series\n",
    "Now we'll plot a time series that includes a trend line, the Absolute Sea Level Change (magnitude in cm) within area/s in proximity to the Tide Station/s – PLOT"
   ]
  },
  {
   "cell_type": "markdown",
   "metadata": {},
   "source": [
    "(ASLtimeseries)=\n",
    "### Calculate rate and magnitude of change\n",
    "Calculate values for both the Trend (rate of change) and Magnitude of Change"
   ]
  },
  {
   "cell_type": "markdown",
   "metadata": {},
   "source": [
    "## Retrieve the Tide Station Data "
   ]
  },
  {
   "cell_type": "markdown",
   "metadata": {},
   "source": [
    "### Assess Station Data Quality \n",
    "for the POR (1993-2022 …consult w/Ayesha and John)"
   ]
  },
  {
   "cell_type": "markdown",
   "metadata": {},
   "source": [
    "### Set the Datum to MHHW \n",
    "…and plot the hourly time series – PLOT"
   ]
  },
  {
   "cell_type": "markdown",
   "metadata": {},
   "source": [
    "### Plot time series\n",
    "Plot time series of monthly mean, that includes a trend line, the Relative Sea Level Sea Level Change (magnitude in cm) within area/s in proximity to the Tide Station/s – PLOT"
   ]
  },
  {
   "cell_type": "markdown",
   "metadata": {},
   "source": [
    "(RSLtimeseries)=\n",
    "### Calculate rate and magnitude of change\n",
    "Calculate values for both the Trend (rate of change) and Magnitude of Change"
   ]
  },
  {
   "cell_type": "markdown",
   "metadata": {},
   "source": [
    "## Combining both sources\n",
    "\n",
    "### Create a Map \n",
    "that includes 1.4 (absolute change) with the addition of an icon/s depicting magnitude of (relative) change at the tide station/s (see UHLSC webpage) – MAP "
   ]
  },
  {
   "cell_type": "markdown",
   "metadata": {},
   "source": [
    " ### Create a Time series plot \n",
    " that include both Absolute (1.5) and Relative Time Series (2.3) – PLOT"
   ]
  },
  {
   "cell_type": "markdown",
   "metadata": {},
   "source": [
    "### Create a Table \n",
    "That compares the results of sections {numref}`ASLtimeseries` and {numref}`RSLtimeseries`– TABLE"
   ]
  },
  {
   "cell_type": "code",
   "execution_count": null,
   "metadata": {},
   "outputs": [],
   "source": []
  }
 ],
 "metadata": {
  "kernelspec": {
   "display_name": "SLindicators",
   "language": "python",
   "name": "python3"
  },
  "language_info": {
   "codemirror_mode": {
    "name": "ipython",
    "version": 3
   },
   "file_extension": ".py",
   "mimetype": "text/x-python",
   "name": "python",
   "nbconvert_exporter": "python",
   "pygments_lexer": "ipython3",
   "version": "3.8.18"
  }
 },
 "nbformat": 4,
 "nbformat_minor": 2
}
